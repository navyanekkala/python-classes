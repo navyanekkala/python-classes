{
 "cells": [
  {
   "cell_type": "code",
   "execution_count": 1,
   "metadata": {},
   "outputs": [],
   "source": [
    "import numpy as np"
   ]
  },
  {
   "cell_type": "code",
   "execution_count": 2,
   "metadata": {},
   "outputs": [],
   "source": [
    "import pandas as pd"
   ]
  },
  {
   "cell_type": "markdown",
   "metadata": {},
   "source": [
    "# write a program to change the order of index of a given series"
   ]
  },
  {
   "cell_type": "code",
   "execution_count": 6,
   "metadata": {},
   "outputs": [
    {
     "data": {
      "text/plain": [
       "s1    2\n",
       "s2    4\n",
       "s3    6\n",
       "s4    9\n",
       "dtype: int64"
      ]
     },
     "execution_count": 6,
     "metadata": {},
     "output_type": "execute_result"
    }
   ],
   "source": [
    "s1 = pd.Series([2,4,6,9])\n",
    "s1.index=['s1','s2','s3','s4']\n",
    "s1"
   ]
  },
  {
   "cell_type": "markdown",
   "metadata": {},
   "source": [
    "# write a python program to add,subtract,mutiple and divide two pandas"
   ]
  },
  {
   "cell_type": "code",
   "execution_count": 7,
   "metadata": {},
   "outputs": [
    {
     "name": "stdout",
     "output_type": "stream",
     "text": [
      "Add two Series:\n",
      "0     3\n",
      "1     7\n",
      "2    11\n",
      "3    15\n",
      "4    19\n",
      "dtype: int64\n",
      "Subtract two Series:\n",
      "0    1\n",
      "1    1\n",
      "2    1\n",
      "3    1\n",
      "4    1\n",
      "dtype: int64\n",
      "Multiply two Series:\n",
      "0     2\n",
      "1    12\n",
      "2    30\n",
      "3    56\n",
      "4    90\n",
      "dtype: int64\n",
      "Divide Series1 by Series2:\n",
      "0    2.000000\n",
      "1    1.333333\n",
      "2    1.200000\n",
      "3    1.142857\n",
      "4    1.111111\n",
      "dtype: float64\n"
     ]
    }
   ],
   "source": [
    "s1 = pd.Series([2,4,6,8,10])\n",
    "s2 = pd.Series([1,3,5,7,9])\n",
    "s = s1 + s2\n",
    "print(\"Add two Series:\")\n",
    "print(s)\n",
    "print(\"Subtract two Series:\")\n",
    "s = s1 - s2\n",
    "print(s)\n",
    "print(\"Multiply two Series:\")\n",
    "s = s1 * s2\n",
    "print(s)\n",
    "print(\"Divide Series1 by Series2:\")\n",
    "s = s1 / s2\n",
    "print(s)\n"
   ]
  },
  {
   "cell_type": "markdown",
   "metadata": {},
   "source": [
    "# write a program to convert a panda module series to python list and its type"
   ]
  },
  {
   "cell_type": "code",
   "execution_count": 8,
   "metadata": {},
   "outputs": [
    {
     "name": "stdout",
     "output_type": "stream",
     "text": [
      "Pandas Series and type\n",
      "0     2\n",
      "1     4\n",
      "2     6\n",
      "3     8\n",
      "4    10\n",
      "dtype: int64\n",
      "<class 'pandas.core.series.Series'>\n",
      "Convert Pandas Series to Python list\n",
      "[2, 4, 6, 8, 10]\n",
      "<class 'list'>\n"
     ]
    }
   ],
   "source": [
    "s = pd.Series([2,4,6,8,10])\n",
    "print(\"Pandas Series and type\")\n",
    "print(s)\n",
    "print(type(s))\n",
    "print(\"Convert Pandas Series to Python list\")\n",
    "print(s.tolist())\n",
    "print(type(s.tolist()))"
   ]
  },
  {
   "cell_type": "markdown",
   "metadata": {},
   "source": [
    "## write a pandas program to select the rows where the score is missing is NaN"
   ]
  },
  {
   "cell_type": "code",
   "execution_count": 11,
   "metadata": {},
   "outputs": [
    {
     "name": "stdout",
     "output_type": "stream",
     "text": [
      "Rows where score is missing:\n",
      "      name  score  attempts qualify\n",
      "d  Johnson    NaN         3      no\n",
      "h   Kambli    NaN         1      no\n"
     ]
    }
   ],
   "source": [
    "exam_data = {'name':['Sachin','Ganguly','Kohili','Johnson','Taylor','Waugh','Yuvraj','Kambli','Srinath','Munaf'],\n",
    "            'score':[12.5,9,16.5,np.nan,9,20,14.5,np.nan,8,19],\n",
    "            'attempts':[1, 3, 2, 3, 2, 3, 1, 1, 2,1],\n",
    "            'qualify':['yes','no','yes','no','no','yes','yes','no','no','yes']}\n",
    "labels = ['a','b','c','d','e','f','g','h','i','j']\n",
    "\n",
    "df = pd.DataFrame(exam_data,index=labels)\n",
    "print(\"Rows where score is missing:\")\n",
    "print(df[df['score'].isnull()])"
   ]
  },
  {
   "cell_type": "markdown",
   "metadata": {},
   "source": [
    "# write a pandas program to create todays date"
   ]
  },
  {
   "cell_type": "code",
   "execution_count": 10,
   "metadata": {},
   "outputs": [
    {
     "name": "stdout",
     "output_type": "stream",
     "text": [
      "Today's date:\n",
      "2019-12-24 00:00:00\n"
     ]
    }
   ],
   "source": [
    "from datetime import date\n",
    "now = pd.to_datetime(str(date.today()), format='%Y-%m-%d')\n",
    "print(\"Today's date:\")\n",
    "print(now)"
   ]
  },
  {
   "cell_type": "code",
   "execution_count": null,
   "metadata": {},
   "outputs": [],
   "source": []
  }
 ],
 "metadata": {
  "kernelspec": {
   "display_name": "Python 3",
   "language": "python",
   "name": "python3"
  },
  "language_info": {
   "codemirror_mode": {
    "name": "ipython",
    "version": 3
   },
   "file_extension": ".py",
   "mimetype": "text/x-python",
   "name": "python",
   "nbconvert_exporter": "python",
   "pygments_lexer": "ipython3",
   "version": "3.7.3"
  }
 },
 "nbformat": 4,
 "nbformat_minor": 2
}
